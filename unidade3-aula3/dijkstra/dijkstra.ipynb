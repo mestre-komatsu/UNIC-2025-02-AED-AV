{
  "nbformat": 4,
  "nbformat_minor": 0,
  "metadata": {
    "colab": {
      "provenance": [],
      "authorship_tag": "ABX9TyOqhvWW1+32sZ1xzsv+7eLm",
      "include_colab_link": true
    },
    "kernelspec": {
      "name": "python3",
      "display_name": "Python 3"
    },
    "language_info": {
      "name": "python"
    }
  },
  "cells": [
    {
      "cell_type": "markdown",
      "metadata": {
        "id": "view-in-github",
        "colab_type": "text"
      },
      "source": [
        "<a href=\"https://colab.research.google.com/github/mestre-komatsu/UNIC-2025-02-AED-AV/blob/main/unidade3-aula3/dijkstra/dijkstra.ipynb\" target=\"_parent\"><img src=\"https://colab.research.google.com/assets/colab-badge.svg\" alt=\"Open In Colab\"/></a>"
      ]
    },
    {
      "cell_type": "code",
      "execution_count": 1,
      "metadata": {
        "colab": {
          "base_uri": "https://localhost:8080/"
        },
        "id": "fVg0b049slF3",
        "outputId": "d13e132d-631a-46d5-b7da-81bcae89c2e9"
      },
      "outputs": [
        {
          "output_type": "stream",
          "name": "stdout",
          "text": [
            "Distâncias mínimas a partir de A:\n",
            "A: 0\n",
            "B: 5\n",
            "C: 2\n",
            "D: 9\n"
          ]
        }
      ],
      "source": [
        "import heapq\n",
        "\n",
        "# Grafo representado como dicionário (vértice: {vizinho: peso})\n",
        "G = {\n",
        "    'A': {'B': 5, 'C': 2},\n",
        "    'B': {'C': 1, 'D': 4},\n",
        "    'C': {'D': 7},\n",
        "    'D': {}\n",
        "}\n",
        "\n",
        "# Função Dijkstra\n",
        "def dijkstra(grafo, inicio):\n",
        "    # Inicializa distâncias infinitas\n",
        "    dist = {v: float('inf') for v in grafo}\n",
        "    dist[inicio] = 0\n",
        "\n",
        "    # Fila de prioridade\n",
        "    fila = [(0, inicio)]\n",
        "\n",
        "    while fila:\n",
        "        custo, u = heapq.heappop(fila)\n",
        "        for v, peso in grafo[u].items():\n",
        "            if dist[u] + peso < dist[v]:\n",
        "                dist[v] = dist[u] + peso\n",
        "                heapq.heappush(fila, (dist[v], v))\n",
        "\n",
        "    return dist\n",
        "\n",
        "# Executando o algoritmo a partir do vértice 'A'\n",
        "distancias = dijkstra(G, 'A')\n",
        "\n",
        "# Exibindo o resultado\n",
        "print(\"Distâncias mínimas a partir de A:\")\n",
        "for vertice, distancia in distancias.items():\n",
        "    print(f\"{vertice}: {distancia}\")\n"
      ]
    }
  ]
}