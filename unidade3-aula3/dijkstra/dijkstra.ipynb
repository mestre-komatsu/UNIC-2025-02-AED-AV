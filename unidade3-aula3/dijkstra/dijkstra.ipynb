import heapq

# Grafo representado como dicionário (vértice: {vizinho: peso})
G = {
    'A': {'B': 5, 'C': 2},
    'B': {'C': 1, 'D': 4},
    'C': {'D': 7},
    'D': {}
}

# Função Dijkstra
def dijkstra(grafo, inicio):
    # Inicializa distâncias infinitas
    dist = {v: float('inf') for v in grafo}
    dist[inicio] = 0
    
    # Fila de prioridade
    fila = [(0, inicio)]
    
    while fila:
        custo, u = heapq.heappop(fila)
        for v, peso in grafo[u].items():
            if dist[u] + peso < dist[v]:
                dist[v] = dist[u] + peso
                heapq.heappush(fila, (dist[v], v))
    
    return dist

# Executando o algoritmo a partir do vértice 'A'
distancias = dijkstra(G, 'A')

# Exibindo o resultado
print("Distâncias mínimas a partir de A:")
for vertice, distancia in distancias.items():
    print(f"{vertice}: {distancia}")

